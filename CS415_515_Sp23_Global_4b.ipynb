{
  "nbformat": 4,
  "nbformat_minor": 0,
  "metadata": {
    "colab": {
      "provenance": [],
      "include_colab_link": true
    },
    "kernelspec": {
      "name": "python3",
      "display_name": "Python 3"
    },
    "language_info": {
      "name": "python"
    }
  },
  "cells": [
    {
      "cell_type": "markdown",
      "metadata": {
        "id": "view-in-github",
        "colab_type": "text"
      },
      "source": [
        "<a href=\"https://colab.research.google.com/github/Dan-Blanchette/CompBio_CS415_Project_4/blob/main/CS415_515_Sp23_Global_4b.ipynb\" target=\"_parent\"><img src=\"https://colab.research.google.com/assets/colab-badge.svg\" alt=\"Open In Colab\"/></a>"
      ]
    },
    {
      "cell_type": "code",
      "execution_count": 114,
      "metadata": {
        "id": "m7yehaAK-uPh",
        "colab": {
          "base_uri": "https://localhost:8080/",
          "height": 17
        },
        "outputId": "b4b80852-7006-4dd4-b6a3-b8595ee806db"
      },
      "outputs": [
        {
          "output_type": "display_data",
          "data": {
            "text/plain": [
              "<IPython.core.display.HTML object>"
            ],
            "text/html": [
              "<style>\n",
              "        body{\n",
              "            font-size: 32px;\n",
              "        }\n",
              "    "
            ]
          },
          "metadata": {}
        }
      ],
      "source": [
        "from IPython.display import HTML\n",
        "shell = get_ipython()\n",
        "\n",
        "def adjust_font_size():\n",
        "    display(HTML('''<style>\n",
        "        body{\n",
        "            font-size: 32px;\n",
        "        }\n",
        "    '''))\n",
        "\n",
        "if adjust_font_size not in shell.events.callbacks['pre_execute']:\n",
        "    shell.events.register('pre_execute', adjust_font_size)"
      ]
    },
    {
      "cell_type": "code",
      "source": [
        "def printmatrix(m,pad = 4): \n",
        "    for r in m:\n",
        "        for d in r:\n",
        "            print(f\"{str(d):>{pad}}\", end = \" \")\n",
        "        print()"
      ],
      "metadata": {
        "colab": {
          "base_uri": "https://localhost:8080/",
          "height": 17
        },
        "id": "WDCFewIdDxaJ",
        "outputId": "c9526d4e-3175-4533-a7df-c3a4e39bb7ee"
      },
      "execution_count": 115,
      "outputs": [
        {
          "output_type": "display_data",
          "data": {
            "text/plain": [
              "<IPython.core.display.HTML object>"
            ],
            "text/html": [
              "<style>\n",
              "        body{\n",
              "            font-size: 32px;\n",
              "        }\n",
              "    "
            ]
          },
          "metadata": {}
        },
        {
          "output_type": "display_data",
          "data": {
            "text/plain": [
              "<IPython.core.display.HTML object>"
            ],
            "text/html": [
              "<style>\n",
              "        body{\n",
              "            font-size: 32px;\n",
              "        }\n",
              "    "
            ]
          },
          "metadata": {}
        }
      ]
    },
    {
      "cell_type": "code",
      "source": [
        "# Dictionary to map nucleic acid codes to matrix indices\n",
        "aminoDictionary = {'a':0, 'r':1, 'n':2, 'd':3, 'c':4, 'q':5, 'e':6, 'g':7,'h':8, \n",
        "'i':9, 'l':10, 'k':11, 'm':12, 'f':13, 'p':14, 's':15,'t':16, 'w':17, 'y':18, \n",
        "'v':19}\n",
        "#Gap penalty\n",
        "gappenalty = -5\n",
        "#blosum[0][0] = 5\n",
        "#blosum50[0][1] = -2\n",
        "#blosum50[0][2] = -1\n",
        "#... very slow\n",
        "#blosum50 matrix\n",
        "blosum50 = [[]]\n",
        "blosum50[0] = [5,-2,-1,-2,-1,-1,-1,0,-2,-1,-2,-1,-1,-3,-1,1,0,-3,-2,0]\n",
        "blosum50.append([-2,7,-1,-2,-4,1,0,-3,0,-4,-3,3,-2,-3,-3,-1,-1,-3,-1,-3])\n",
        "blosum50.append([-1,-1,7,2,-2,0,0,0,1,-3,-4,0,-2,-4,-2,1,0,-4,-2,-3])\n",
        "blosum50.append([-2,-2,2,8,-4,0,2,-1,-1,-4,-4,-1,-4,-5,-1,0,-1,-5,-3,-4])\n",
        "blosum50.append([-1,-4,-2,-4,13,-3,-3,-3,-3,-2,-2,-3,-2,-2,-4,-1,-1,-5,-3,-1])\n",
        "blosum50.append([-1,1,0,0,-3,7,2,-2,1,-3,-2,2,0,-4,-1,0,-1,-1,-1,-3])\n",
        "blosum50.append([-1,0,0,2,-3,2,6,-3,0,-4,-3,1,-2,-3,-1,-1,-1,-3,-2,-3])\n",
        "blosum50.append([0,-3,0,-1,-3,-2,-3,8,-2,-4,-4,-2,-3,-4,-2,0,-2,-3,-3,-4])\n",
        "blosum50.append([-2,0,1,-1,-3,1,0,-2,10,-4,-3,0,-1,-1,-2,-1,-2,-3,2,-4])\n",
        "blosum50.append([-1,-4,-3,-4,-2,-3,-4,-4,-4,5,2,-3,2,0,-3,-3,-1,-3,-1,4])\n",
        "blosum50.append([-2,-3,-4,-4,-2,-2,-3,-4,-3,2,5,-3,3,1,-4,-3,-1,-2,-1,1])\n",
        "blosum50.append([-1,3,0,-1,-3,2,1,-2,0,-3,-3,6,-2,-4,-1,0,-1,-3,-2,-3])\n",
        "blosum50.append([-1,-2,-2,-4,-2,0,-2,-3,-1,2,3,-2,7,0,-3,-2,-1,-1,0,1])\n",
        "blosum50.append([-3,-3,-4,-5,-2,-4,-3,-4,-1,0,1,-4,0,8,-4,-3,-2,1,4,-1])\n",
        "blosum50.append([-1,-3,-2,-1,-4,-1,-1,-2,-2,-3,-4,-1,-3,-4,10,-1,-1,-4,-3,-3])\n",
        "blosum50.append([1,-1,1,0,-1,0,-1,0,-1,-3,-3,0,-2,-3,-1,5,2,-4,-2,-2])\n",
        "blosum50.append([0,-1,0,-1,-1,-1,-1,-2,-2,-1,-1,-1,-1,-2,-1,2,5,-3,-2,0])\n",
        "blosum50.append([-3,-3,-4,-5,-5,-1,-3,-3,-3,-3,-2,-3,-1,1,-4,-4,-3,15,2,-3])\n",
        "blosum50.append([-2,-1,-2,-3,-3,-1,-2,-3,2,-1,-1,-2,0,4,-3,-2,-2,2,8,-1])\n",
        "blosum50.append([0,-3,-3,-4,-1,-3,-3,-4,-4,4,1,-3,1,-1,-3,-2,0,-3,-1,5])\n",
        "\n",
        "# matrix from project 3\n",
        "proj3Matrix = [[]]\n",
        "proj3Matrix[0] = [10,\t0,\t2,\t4,\t-1,\t-3,\t-3,\t0,\t-3,\t0,\t-3,\t-4,\t-3,\t-1,\t0,\t-4,\t-4,\t-4,\t-6,\t0,\t0,\t-3,\t-3,\t  0, -6,0] #1\n",
        "proj3Matrix.append([0,\t0,\t0,\t0,\t0,\t0,\t0,\t0,\t0,\t0,\t0,\t0,\t0,\t0,\t0,\t0,\t0,\t0,\t0,\t0,\t0,\t0,\t0,\t0,\t0,\t0]) #2\n",
        "proj3Matrix.append([2,\t0,\t10,\t6,\t3,\t3,\t2,\t2,\t2,\t0,\t3,\t3,\t2,\t1,\t0,\t1,\t-1,\t0,\t1,\t0,\t0,\t0,\t-2,\t0,\t1,\t0]) # 3\n",
        "proj3Matrix.append([4,\t0,\t6,\t10,\t5,\t4,\t3,\t3,\t3,\t0,\t3,\t1,\t1,\t1,\t0,\t1,\t0,\t1,\t2,\t1,\t0,\t1,\t0,\t0,\t0,\t0]) # 4\n",
        "proj3Matrix.append([-1,\t0,\t3,\t5,\t10,\t3,\t3,\t4,\t4,\t0,\t2,\t1,\t2,\t1,\t0,  0,\t1,\t1,\t1,\t-1,\t0,\t-1,\t0,\t0,\t-1,\t0]) # 5\n",
        "proj3Matrix.append([-3,\t0,\t3,\t4,\t3,\t8,\t2,\t2,\t2,\t0,\t0,\t1,\t2,\t0,\t0,\t0,\t1,\t1,\t0,\t-1,\t0,\t-1,\t-1,\t0,\t-2,\t0]) # 6\n",
        "proj3Matrix.append([-3,\t0,\t2,\t3,\t3,\t2,\t8,\t0,\t1,\t0,\t1,\t1,\t0,\t-1,\t0,\t0,\t-2,\t-1,\t0,\t-2,\t0,\t-2,\t-1,\t0,\t-3,\t0]) # 7\n",
        "proj3Matrix.append([0,\t0,\t2,\t3,\t4,\t2,\t0,\t8,\t2,\t0,\t1,\t-1,\t0,\t1,\t0,\t-2,\t1,\t-1,\t0,\t0,\t0,\t-3,\t-3,\t0,\t-1,\t0]) # 8\n",
        "proj3Matrix.append([-3,\t0,\t2,\t3,\t4,\t2,\t1,\t2,\t7,\t0,\t1,\t-1,\t1,\t0,\t0,\t0,\t0,\t-1,\t0,\t-2,\t0, -3,\t-3,\t0,\t-3,\t0]) # 9\n",
        "proj3Matrix.append([0,\t0,\t0,\t0,\t0,\t0,\t0,\t0,\t0,\t0,\t0,\t0,\t0,\t0,\t0,\t0,\t0,\t0,\t0,\t0,\t0,\t0,\t0,\t0,\t0,\t0]) # 10\n",
        "proj3Matrix.append([-3,\t0,\t3,\t3,\t2,\t0,\t1,\t1,\t1,\t0,\t7,\t-1,\t-1,\t0,\t0,\t0,\t-1,\t0,\t-2,\t0,\t0,\t-2,\t-2,\t0,\t-1,\t0]) # 11\n",
        "proj3Matrix.append([-4,\t0,\t3,\t1,\t1,\t1,\t1,\t-1,\t-1,\t0,\t-1,\t7,\t-1,\t-1,\t0,\t-1,\t0,\t-2,\t-1,\t-3,\t0,\t-3,\t-3,\t0,\t-2,\t0]) # 12\n",
        "proj3Matrix.append([-3,\t0,\t2,\t1,\t2,\t2,\t0,\t0,\t1,\t0,\t-1,\t-1,\t5,\t-1,\t0,\t-2,\t-1,\t-1,\t-2,\t-3,\t0,\t-3,\t-2,\t0,\t-2,\t0]) # 13\n",
        "proj3Matrix.append([-1,\t0,\t1,\t1,\t1,\t0,\t-1,\t1,\t0,\t0,\t0,\t-1,\t-1,\t5,\t0,\t-1,\t-1,\t-2,\t-2,\t-2,\t0,\t-2,\t-3,\t0,\t-4,\t0]) # 14\n",
        "proj3Matrix.append([0,\t0,\t0,\t0,\t0,\t0,\t0,\t0,\t0,\t0,\t0,\t0,\t0,\t0,\t0,\t0,\t0,\t0,\t0,\t0,\t0,\t0,\t0,\t0,\t0,\t0]) # 15\n",
        "proj3Matrix.append([-4,\t0,\t1,\t1,\t0,\t0,\t0,\t-2,\t0,\t0,\t0,\t-1,\t-2,\t-1,\t0,\t5,\t-3,\t-1,\t-2,\t-4,\t0,\t-3,\t-3,\t0,\t-4,\t0]) # 16\n",
        "proj3Matrix.append([-4,\t0,\t-1,\t0,\t1,\t1,\t-2,\t1,\t0,\t0,\t-1,\t0,\t-1,\t-1,\t0,\t-3,\t4,\t-3,\t-3,\t-2,\t0,\t-5,\t-4,\t0,\t-4,\t0]) # 17\n",
        "proj3Matrix.append([-4,\t0,\t0,\t1,\t1,\t1,\t-1,\t-1,\t-1,\t0,\t0,\t-2,\t-1,\t-2,\t0,\t-1,\t-3,\t4,\t-3,\t-3,\t0,\t-4,\t-3,\t0,\t-4,\t0]) # 18\n",
        "proj3Matrix.append([-6,\t0,\t1,\t2,\t1,\t0,\t0,\t0,\t0,\t0,\t-2,\t-1,\t-2,\t-2,\t0,\t-2,\t-3,\t-3,\t3,\t-3,\t0,\t-3,\t-3,\t0,\t-5,\t0]) # 19\n",
        "proj3Matrix.append([0,\t0,\t0,\t1,\t-1,\t-1,\t-2,\t0,\t-2,\t0,\t0,\t-3,\t-3,\t-2,\t0,\t-4,\t-2,\t-3,\t-3,\t3,\t0,\t-4,\t-4,\t0,\t-3,\t0]) # 20\n",
        "proj3Matrix.append([0,\t0,\t0,\t0,\t0,\t0,\t0,\t0,\t0,\t0,\t0,\t0,\t0,\t0,\t0,\t0,\t0,\t0,\t0,\t0,\t0,\t0,\t0,\t0,\t0,\t0]) # 21\n",
        "proj3Matrix.append([-3,\t0,\t0,\t1,\t-1,\t-1,\t-2,\t-3,\t-3,\t0,\t-2,\t-3,\t-3,\t-2,\t0,\t-3,\t-5,\t-4,\t-3,\t-4,\t0,\t3,\t-4,\t0,\t-5,\t0]) # 22\n",
        "proj3Matrix.append([-3,\t0,\t-2,\t0,\t0,\t-1,\t-1,\t-3,\t-3,\t0,\t-2,\t-3,\t-2,\t-3,\t0,\t-3,\t-4,\t-3,\t-3,\t-4,\t0,\t-4,\t2,\t0,\t-5,\t0]) # 23\n",
        "proj3Matrix.append([0,\t0,\t0,\t0,\t0,\t0,\t0,\t0,\t0,\t0,\t0,\t0,\t0,\t0,\t0,\t0,\t0,\t0,\t0,\t0,\t0,\t0,\t0,\t0,\t0,\t0]) # 24\n",
        "proj3Matrix.append([-6,\t0,\t1,\t0,\t-1,\t-2,\t-3,\t-1,\t-3,\t0,\t-1,\t-2,\t-2,\t-4,\t0,\t-4,\t-4,\t-4,\t-5,\t-3,\t0,\t-5,\t-5,\t0,\t2,\t0]) # 25\n",
        "proj3Matrix.append([0,\t0,\t0,\t0,\t0,\t0,\t0,\t0,\t0,\t0,\t0,\t0,\t0,\t0,\t0,\t0,\t0,\t0,\t0,\t0,\t0,\t0,\t0,\t0,\t0,\t0]) # 26\n",
        "\n",
        "sequences = [\"vnvwtvwawwlyvpwagdalcvkyheylryhhctwptrmycgpitvnkgydtdmhetywwlyvpwacqfqearnklvqevpsckyssfypifvnipnmvktnrppgefltircstvtenlhktkggnth\", \n",
        "             \"vyvwtvwvwwwmgpwacdagldkyqpyeryncynlpnrstccvinvnkdyycdmhayvacqfqeaghylpqevrsckypvfycwdwircfkgcsqrppkkpksrcwgqgyfwdtdtsgygsq\",\n",
        "             \"cqfqevyvpyvwvltwkvmvacdannknckkcdsmglgkhskyfihifingnkdgetlmhagyacqfqeagnylpgevpsckfmhfgcwfkivtflyyqsldpgipksqyshggiepneltkggnmr\",\n",
        "             \"vyvvkvwvwqwpvpracdainygdnfkdgypmywlsgchisifvfqtsrlcyvrlawfaecfqqqrvkldqevesckyssfypqlvnipgmvktnrppgeflssrcsqvtenlhetkggnrh\",\n",
        "             \"yqrhkmnwnyvpdtcpwsyyylmnyymslmmvpvpyqsctgtfcvstwyysyfsipsgpsvwpvgqqgadiavkkasflgdwmvnfmqvfgwerhkpqmdrirdegcpnwffrhdmta\",\n",
        "             \"hqpqqdcavldtlvpvcphwsyyylmnyymsimmvpvpiqvftvtswvfteyyeyfkwpsgpycwpvdvygqpqqdcahmgghqepwqkmlnqppvdqkivqidrcdvlsrwcpervcemytqihqadravkpadflwtqqynvhtmfhwhrhpnpesgiryfgrdpcqrrnwdtf\",\n",
        "             \"hvrlqdqapmytlvpvyspwsytydsnyyvyqmqkpvpwvwnyvtydvstwyywykwwpsgpntwsvgvyvahhgghwgttlymgtqpfmqklrmiiapcdlqmrwcgelwnehlfqdfcadravhpanflnttrvnhmtmkvrnsikpqekeefrfttscwmarfmitc\",\n",
        "             \"hepqqdcapnfpwtlmtcvwswkwlsvgyanqmqnpvpwvwnyqtyfvstwyywykwwpsgpnthivyvyvkhhgghwgpvqymgfqpfmqgvrfpqgvggfyhriifelwtyrngadhwadravsgalfwlllvknshtikviysqpwppsgirkycrnpyqtvhpgtm\"]"
      ],
      "metadata": {
        "id": "aXssLFNucTV7",
        "colab": {
          "base_uri": "https://localhost:8080/",
          "height": 17
        },
        "outputId": "45701884-aaab-4eb6-c4f9-298b4bf7c520"
      },
      "execution_count": 116,
      "outputs": [
        {
          "output_type": "display_data",
          "data": {
            "text/plain": [
              "<IPython.core.display.HTML object>"
            ],
            "text/html": [
              "<style>\n",
              "        body{\n",
              "            font-size: 32px;\n",
              "        }\n",
              "    "
            ]
          },
          "metadata": {}
        },
        {
          "output_type": "display_data",
          "data": {
            "text/plain": [
              "<IPython.core.display.HTML object>"
            ],
            "text/html": [
              "<style>\n",
              "        body{\n",
              "            font-size: 32px;\n",
              "        }\n",
              "    "
            ]
          },
          "metadata": {}
        }
      ]
    },
    {
      "cell_type": "code",
      "source": [
        "\n",
        "\n",
        "def sequence_test(index):\n",
        "  return sequences[index]\n",
        "\n",
        "# sequence trials\n",
        "seq1 = sequence_test(0)\n",
        "seq2 = sequence_test(1)\n",
        "\n",
        "\n",
        "scoringmatrix = [[00 for i in range(0,len(seq1)+1)] for j in range(0,len(seq2)+1)]\n",
        "directionmatrix = [[\".\" for i in range(0,len(seq1)+1)] for j in range(0,len(seq2)+1)]\n",
        "# printmatrix(scoringmatrix)"
      ],
      "metadata": {
        "id": "uUucbDBk-vQZ",
        "colab": {
          "base_uri": "https://localhost:8080/",
          "height": 17
        },
        "outputId": "437672eb-6849-4d3f-ddad-a25778e70bc1"
      },
      "execution_count": 117,
      "outputs": [
        {
          "output_type": "display_data",
          "data": {
            "text/plain": [
              "<IPython.core.display.HTML object>"
            ],
            "text/html": [
              "<style>\n",
              "        body{\n",
              "            font-size: 32px;\n",
              "        }\n",
              "    "
            ]
          },
          "metadata": {}
        },
        {
          "output_type": "display_data",
          "data": {
            "text/plain": [
              "<IPython.core.display.HTML object>"
            ],
            "text/html": [
              "<style>\n",
              "        body{\n",
              "            font-size: 32px;\n",
              "        }\n",
              "    "
            ]
          },
          "metadata": {}
        }
      ]
    },
    {
      "cell_type": "code",
      "source": [
        "for i in range(0,len(scoringmatrix[0])):\n",
        "    scoringmatrix[0][i] =  i*gappenalty\n",
        "    directionmatrix[0][i] = '\\u2190'\n",
        "for i in range(0,len(scoringmatrix)):\n",
        "    scoringmatrix[i][0] = i*gappenalty\n",
        "    directionmatrix[i][0]  = '\\u2191'\n",
        "\n",
        "for r in range(1,len(scoringmatrix)):\n",
        "    for c in range(1,len(scoringmatrix[r])):\n",
        "        vert = scoringmatrix[r-1][c] + gappenalty\n",
        "        horz = scoringmatrix[r][c-1] + gappenalty\n",
        "        diag = scoringmatrix[r-1][c-1]\n",
        "        #print(seq1[r-1],seq2[c-1])\n",
        "# seq1 = \"heagawghee\"\n",
        "#seq2 = \"pawheae\"\n",
        "        char1 = seq1[c-1]\n",
        "        char2 = seq2[r-1]\n",
        "        index1 = aminoDictionary[char1]\n",
        "        index2 = aminoDictionary[char2]\n",
        "       # diag += blosum50[index2][index1]\n",
        "        diag += proj3Matrix[index2][index1]\n",
        "      #  diag += blosum50[aminoDictionary[seq2[r-1]]][aminoDictionary[seq1[c-1]]]\n",
        "       # if(seq1[c-1] == seq2[r-1]):\n",
        "       #     diag += 1\n",
        "       # else:\n",
        "       #     diag -= 1\n",
        "        scoringmatrix[r][c] = max(vert,horz,diag)\n",
        "        #directionmatrix[r][c] = \"v or h or d\"\n",
        "        if diag >= horz and diag >= vert:\n",
        "            directionmatrix[r][c] = \"\\u2196\"\n",
        "        if horz > diag and horz > vert:\n",
        "            directionmatrix[r][c] = \"\\u2190\"\n",
        "        if vert > diag and vert > horz:\n",
        "            directionmatrix[r][c] = \"\\u2191\"\n",
        "\n",
        "#printmatrix(scoringmatrix,4)\n",
        "#print(seq1)\n",
        "#print(seq2)\n"
      ],
      "metadata": {
        "colab": {
          "base_uri": "https://localhost:8080/",
          "height": 17
        },
        "id": "QJhREFFbF1KI",
        "outputId": "1cba6355-a69b-4989-c3a0-1721f0ce2730"
      },
      "execution_count": 118,
      "outputs": [
        {
          "output_type": "display_data",
          "data": {
            "text/plain": [
              "<IPython.core.display.HTML object>"
            ],
            "text/html": [
              "<style>\n",
              "        body{\n",
              "            font-size: 32px;\n",
              "        }\n",
              "    "
            ]
          },
          "metadata": {}
        },
        {
          "output_type": "display_data",
          "data": {
            "text/plain": [
              "<IPython.core.display.HTML object>"
            ],
            "text/html": [
              "<style>\n",
              "        body{\n",
              "            font-size: 32px;\n",
              "        }\n",
              "    "
            ]
          },
          "metadata": {}
        }
      ]
    },
    {
      "cell_type": "code",
      "source": [
        "printmatrix(directionmatrix,0)"
      ],
      "metadata": {
        "id": "-n6gw0n5Mh0D"
      },
      "execution_count": null,
      "outputs": []
    },
    {
      "cell_type": "code",
      "source": [
        "aligned1 = \"\"\n",
        "aligned2 = \"\"\n",
        "pos1 = len(seq1)\n",
        "pos2 = len(seq2)\n",
        "\n",
        "while pos1 > 0 or pos2 > 0:\n",
        "    if(directionmatrix[pos2][pos1] == '\\u2196'): # diag\n",
        "        aligned1 += (seq1[pos1-1])\n",
        "        aligned2 += (seq2[pos2-1])\n",
        "        pos1 -=1 \n",
        "        pos2 -=1\n",
        "    else:\n",
        "        if(directionmatrix[pos2][pos1] == '\\u2190'): # horz\n",
        "            aligned1 += (seq1[pos1-1])\n",
        "            aligned2 += ('-')\n",
        "            pos1 -=1\n",
        "        else: \n",
        "            if(directionmatrix[pos2][pos1] == '\\u2191'): # vert\n",
        "                aligned1 += ('-')\n",
        "                aligned2 += (seq2[pos2-1]) \n",
        "                pos2 -=1\n",
        "            else: \n",
        "                print(\"Something is wrong!\")\n",
        "aligned1 = aligned1[::-1]\n",
        "aligned2 = aligned2[::-1]\n",
        "print(aligned1)\n",
        "print(aligned2)\n",
        "\n",
        "f = open(\"align2_neg5.txt\",\"a\")\n",
        "\n",
        "f.write(aligned1)\n",
        "f.write(\"\\n\")\n",
        "f.write(aligned2)\n",
        "f.close()"
      ],
      "metadata": {
        "colab": {
          "base_uri": "https://localhost:8080/",
          "height": 116
        },
        "id": "mHTX3vOqqY4M",
        "outputId": "70adc77c-28cc-49ac-b8f4-12bc8e807cd7"
      },
      "execution_count": 120,
      "outputs": [
        {
          "output_type": "display_data",
          "data": {
            "text/plain": [
              "<IPython.core.display.HTML object>"
            ],
            "text/html": [
              "<style>\n",
              "        body{\n",
              "            font-size: 32px;\n",
              "        }\n",
              "    "
            ]
          },
          "metadata": {}
        },
        {
          "output_type": "display_data",
          "data": {
            "text/plain": [
              "<IPython.core.display.HTML object>"
            ],
            "text/html": [
              "<style>\n",
              "        body{\n",
              "            font-size: 32px;\n",
              "        }\n",
              "    "
            ]
          },
          "metadata": {}
        },
        {
          "output_type": "stream",
          "name": "stdout",
          "text": [
            "vnvwtvwawwlyvpwagdalcvkyheylryhhctwptrmycgpitvnkgydtdmhetywwlyvpwacqfqearnklvqevpsckyssfypifvnipnmvktn-rppgefltircstvten-lhktkggnth\n",
            "vyvwtvwvwwwmgpwacdagldkyqpyeryncynlpnrstccvinvnkdyycdmh-----ayv--acqfqeaghylpqevrsckypvfycw--dwircfkgcsqrppkkpksrcwgqgyfwdtdtsgygsq\n"
          ]
        }
      ]
    }
  ]
}